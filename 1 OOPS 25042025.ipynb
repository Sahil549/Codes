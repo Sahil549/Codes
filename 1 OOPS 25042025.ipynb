{
 "cells": [
  {
   "cell_type": "code",
   "execution_count": 1,
   "id": "eed5c63b-09d1-4e24-ae29-068df09f934d",
   "metadata": {},
   "outputs": [],
   "source": [
    "#Sum of 2 numbers using OOP\n",
    "\n",
    "class Sum: #Logical Concept\n",
    "\n",
    "    #Variables prefix with self they are class Variable.\n",
    "    #Its means they can be accessed throughout the class\n",
    "\n",
    "    #Those variables which will be without prefix of self.\n",
    "    #They are method variable or local variable.\n",
    "\n",
    "    def accept(self): #Method / Procedure / SubRoutine / Function\n",
    "        self.num1=0\n",
    "        self.num2=0\n",
    "        self.total=0\n",
    "        #num1=30\n",
    "        self.num1=int(input(\"\\n\\tEnter first number \"))\n",
    "        self.num2=int(input(\"\\n\\tEnter second number \"))\n",
    "\n",
    "    def calculate(self):\n",
    "        self.total=self.num1+self.num2\n",
    "\n",
    "    def display(self):\n",
    "        print(\"\\n\\tSum of 2 nos \",self.total)"
   ]
  },
  {
   "cell_type": "code",
   "execution_count": 2,
   "id": "7ce3551f-41c8-4499-b957-8620347dba5f",
   "metadata": {},
   "outputs": [],
   "source": [
    "obj = Sum()  #----> Object creation  -----> Constructor get Called\n",
    "# obj ----> reference ----> is with self keyword n above code"
   ]
  },
  {
   "cell_type": "code",
   "execution_count": 3,
   "id": "b24f4dc5-29dd-40c3-8535-3b19507db846",
   "metadata": {},
   "outputs": [
    {
     "name": "stdin",
     "output_type": "stream",
     "text": [
      "\n",
      "\tEnter first number  10\n",
      "\n",
      "\tEnter second number  20\n"
     ]
    }
   ],
   "source": [
    "obj.accept()"
   ]
  },
  {
   "cell_type": "code",
   "execution_count": 4,
   "id": "53ef8dd4-47c2-433c-a84e-1bc8dd52c42f",
   "metadata": {},
   "outputs": [],
   "source": [
    "obj.calculate()"
   ]
  },
  {
   "cell_type": "code",
   "execution_count": 5,
   "id": "d6e3fc03-b47a-4f94-bee2-27c5da36161a",
   "metadata": {},
   "outputs": [
    {
     "name": "stdout",
     "output_type": "stream",
     "text": [
      "\n",
      "\tSum of 2 nos  30\n"
     ]
    }
   ],
   "source": [
    "obj.display()"
   ]
  },
  {
   "cell_type": "code",
   "execution_count": 36,
   "id": "eb959066-50f5-4982-9c50-bf81ccfd5dd5",
   "metadata": {},
   "outputs": [
    {
     "name": "stdin",
     "output_type": "stream",
     "text": [
      "\n",
      "\tEnter num 1  5\n",
      "\n",
      "\tEnter num 2  6\n"
     ]
    },
    {
     "name": "stdout",
     "output_type": "stream",
     "text": [
      "\n",
      "\tProduct of 2 num is  30\n"
     ]
    }
   ],
   "source": [
    "#product of 2 numbers \n",
    "\n",
    "class Product:\n",
    "    def accept(self):\n",
    "        self.num1=0\n",
    "        self.num2=0\n",
    "        self.product=0\n",
    "\n",
    "        self.num1=int(input(\"\\n\\tEnter num 1 \"))\n",
    "        self.num2=int(input(\"\\n\\tEnter num 2 \"))\n",
    "\n",
    "    def calculate(self):\n",
    "        self.product=self.num1*self.num2\n",
    "\n",
    "    def display(self):\n",
    "        print(\"\\n\\tProduct of 2 num is \",self.product)\n",
    "\n",
    "obj=Product\n",
    "\n",
    "obj.accept()\n",
    "obj.calculate()\n",
    "obj.display()"
   ]
  },
  {
   "cell_type": "code",
   "execution_count": 59,
   "id": "0bd9a561-c7d3-4609-b806-eb59a66212be",
   "metadata": {},
   "outputs": [
    {
     "name": "stdin",
     "output_type": "stream",
     "text": [
      "\n",
      "\tEnter age  20\n"
     ]
    },
    {
     "name": "stdout",
     "output_type": "stream",
     "text": [
      "\n",
      "\tYou are an Adult\n"
     ]
    }
   ],
   "source": [
    "class Age():\n",
    "    def accept(self):\n",
    "        self.age=0\n",
    "        self.age=int(input(\"\\n\\tEnter age \"))\n",
    "\n",
    "    def checkdisplay(self):\n",
    "        if(self.age>18):\n",
    "            print(\"\\n\\tYou are an Adult\")\n",
    "        else:\n",
    "            print(\"\\n\\tYou are a Minor\")\n",
    "\n",
    "obj = Age()\n",
    "\n",
    "obj.accept()\n",
    "obj.checkdisplay()"
   ]
  },
  {
   "cell_type": "code",
   "execution_count": 67,
   "id": "4d55cab0-9fb5-4f0f-bc88-dc8194dd1264",
   "metadata": {},
   "outputs": [
    {
     "name": "stdin",
     "output_type": "stream",
     "text": [
      "\n",
      "\tEnter num1  365\n",
      "\n",
      "\tEnter num2  365\n"
     ]
    },
    {
     "name": "stdout",
     "output_type": "stream",
     "text": [
      "\n",
      "\tBoth are Equal \n"
     ]
    }
   ],
   "source": [
    "class Highest():\n",
    "    def accept(self):\n",
    "        self.num1=0\n",
    "        self.num2=0\n",
    "\n",
    "        self.num1=int(input(\"\\n\\tEnter num1 \"))\n",
    "        self.num2=int(input(\"\\n\\tEnter num2 \"))\n",
    "\n",
    "    def checkdisplay(self):\n",
    "        if(self.num1>self.num2):\n",
    "            print(\"\\n\\tHighest number is \",self.num1)\n",
    "        elif(self.num1<self.num2):\n",
    "            print(\"\\n\\tHighest number is \",self.num2)\n",
    "        else:\n",
    "            print(\"\\n\\tBoth are Equal \")\n",
    "\n",
    "obj = Highest()\n",
    "\n",
    "obj.accept()\n",
    "obj.checkdisplay()      "
   ]
  },
  {
   "cell_type": "code",
   "execution_count": 20,
   "id": "41e2f484-6ab7-44e9-9e4f-b2ef823a849d",
   "metadata": {},
   "outputs": [
    {
     "name": "stdin",
     "output_type": "stream",
     "text": [
      "\n",
      "\tEnter number  4\n",
      "\n",
      "\tEnter number  4\n",
      "\n",
      "\tEnter number  4\n",
      "\n",
      "\tEnter number  4\n",
      "\n",
      "\tEnter number  4\n"
     ]
    },
    {
     "name": "stdout",
     "output_type": "stream",
     "text": [
      "\n",
      "\tSum of 10 nos  20\n"
     ]
    }
   ],
   "source": [
    "#sum of 10\n",
    "class Sumtotal:\n",
    "    # def accept(self):\n",
    "    #     counter=0\n",
    "        \n",
    "    def cal(self):\n",
    "        self.counter=0\n",
    "        self.summ=0\n",
    "        while(self.counter<5):\n",
    "            self.num=int(input(\"\\n\\tEnter number \"))\n",
    "            self.counter=self.counter+1\n",
    "            self.summ=self.summ+self.num\n",
    "\n",
    "    def display(self):\n",
    "        print(\"\\n\\tSum of 10 nos \",self.summ)\n",
    "\n",
    "obj = Sumtotal()\n",
    "\n",
    "obj.cal()         \n",
    "obj.display()"
   ]
  },
  {
   "cell_type": "code",
   "execution_count": 2,
   "id": "8e961b7e-b26d-4b39-a1cb-4ccdb34cdddc",
   "metadata": {},
   "outputs": [
    {
     "name": "stdin",
     "output_type": "stream",
     "text": [
      "\n",
      "\tEnter num  1\n",
      "\n",
      "\tEnter num  2\n",
      "\n",
      "\tEnter num  3\n",
      "\n",
      "\tEnter num  4\n",
      "\n",
      "\tEnter num  5\n"
     ]
    },
    {
     "name": "stdout",
     "output_type": "stream",
     "text": [
      "\n",
      "\tTotal number of evens are  2\n",
      "\n",
      "\tTotal number of odds are  3\n"
     ]
    }
   ],
   "source": [
    "class Odev:\n",
    "    def cal(self):\n",
    "        self.even=0\n",
    "        self.odd=0\n",
    "        self.counter=0\n",
    "        while(self.counter<5):\n",
    "            self.num=int(input(\"\\n\\tEnter num \"))\n",
    "            if(self.num%2==0):\n",
    "                self.even=self.even+1\n",
    "            else:\n",
    "                self.odd=self.odd+1\n",
    "            self.counter+=1\n",
    "    def display(self):\n",
    "        print(\"\\n\\tTotal number of evens are \",self.even)\n",
    "        print(\"\\n\\tTotal number of odds are \",self.odd)\n",
    "obj = Odev()\n",
    "obj.cal()\n",
    "obj.display()"
   ]
  },
  {
   "cell_type": "code",
   "execution_count": null,
   "id": "b590af7f-7a9b-4c48-920e-437b082f40ef",
   "metadata": {},
   "outputs": [],
   "source": [
    "# ********************************************************************"
   ]
  },
  {
   "cell_type": "code",
   "execution_count": null,
   "id": "674940ef-6e06-4b89-b2d1-72d5b32a3000",
   "metadata": {},
   "outputs": [],
   "source": []
  },
  {
   "cell_type": "code",
   "execution_count": null,
   "id": "6d5a5af2-9514-4934-9b48-0e7510e96b33",
   "metadata": {},
   "outputs": [],
   "source": [
    "################## CONSTRUCTOR ##########################"
   ]
  },
  {
   "cell_type": "code",
   "execution_count": 11,
   "id": "6fecf9fa-c8c8-4f22-9bd1-bd4345d2eac5",
   "metadata": {},
   "outputs": [
    {
     "name": "stdout",
     "output_type": "stream",
     "text": [
      "n\tConstructor is called \n"
     ]
    },
    {
     "name": "stdin",
     "output_type": "stream",
     "text": [
      "\n",
      "\tEnter num  1\n",
      "\n",
      "\tEnter num  1\n",
      "\n",
      "\tEnter num  1\n"
     ]
    },
    {
     "name": "stdout",
     "output_type": "stream",
     "text": [
      "\n",
      "\tTotal sum of 3 is  3\n"
     ]
    }
   ],
   "source": [
    "class Sumten:\n",
    "    def __init__(self):\n",
    "        self.counter=0\n",
    "        self.sum=0\n",
    "        self.count=0\n",
    "        print(\"n\\tConstructor is called \")\n",
    "\n",
    "    def accept(self):\n",
    "        self.counter=0\n",
    "        self.sum=0\n",
    "        self.count=3\n",
    "\n",
    "    def cal(self):\n",
    "        while(self.counter<self.count):\n",
    "            self.num=int(input(\"\\n\\tEnter num \"))\n",
    "            self.sum=self.sum+self.num\n",
    "            self.counter+=1\n",
    "    def display(self):\n",
    "        print(\"\\n\\tTotal sum of 3 is \",self.sum)\n",
    "\n",
    "obj = Sumten()\n",
    "obj.accept()\n",
    "obj.cal()\n",
    "obj.display()"
   ]
  },
  {
   "cell_type": "code",
   "execution_count": 12,
   "id": "cf168312-2bbb-49df-8bc4-9a4301261787",
   "metadata": {},
   "outputs": [
    {
     "name": "stdout",
     "output_type": "stream",
     "text": [
      "n\tConstructor is called \n"
     ]
    },
    {
     "name": "stdin",
     "output_type": "stream",
     "text": [
      "\n",
      "\tEnter num  1\n",
      "\n",
      "\tEnter num  1\n",
      "\n",
      "\tEnter num  1\n"
     ]
    },
    {
     "name": "stdout",
     "output_type": "stream",
     "text": [
      "\n",
      "\tTotal of product  1\n"
     ]
    }
   ],
   "source": [
    "class Product:           #product of 3\n",
    "    def __init__(self):\n",
    "        self.counter=0\n",
    "        self.product=1\n",
    "        self.count=0\n",
    "        print(\"n\\tConstructor is called \")\n",
    "\n",
    "    def accept(self):\n",
    "        self.counter=0\n",
    "        self.product=1\n",
    "        self.count=3\n",
    "\n",
    "    def cal(self):\n",
    "        while(self.counter<self.count):\n",
    "            self.num=int(input(\"\\n\\tEnter num \"))\n",
    "            self.product*=self.num\n",
    "            self.counter+=1\n",
    "    def display(self):\n",
    "        print(\"\\n\\tTotal of product \",self.product)\n",
    "        \n",
    "obj = Product()\n",
    "obj.accept()\n",
    "obj.cal()\n",
    "obj.display()"
   ]
  },
  {
   "cell_type": "code",
   "execution_count": 15,
   "id": "561d5d2b-4649-4df5-8c9e-1544401e3fbc",
   "metadata": {},
   "outputs": [
    {
     "name": "stdout",
     "output_type": "stream",
     "text": [
      "\n",
      "\tConstructor is called \n"
     ]
    },
    {
     "name": "stdin",
     "output_type": "stream",
     "text": [
      "\n",
      "\tEnter num  1\n",
      "\n",
      "\tEnter num  1\n",
      "\n",
      "\tEnter num  1\n"
     ]
    },
    {
     "name": "stdout",
     "output_type": "stream",
     "text": [
      "\n",
      "\tTotal of product  1\n",
      "\n",
      "\tTotal of sum  3\n"
     ]
    }
   ],
   "source": [
    "class Productsum:             #sum and Product of 10\n",
    "    def __init__(self):\n",
    "        self.counter=0\n",
    "        self.sum=0\n",
    "        self.product=1\n",
    "        self.count=0\n",
    "        print(\"\\n\\tConstructor is called \")\n",
    "\n",
    "    def accept(self):\n",
    "        self.counter=0\n",
    "        self.sum=0\n",
    "        self.product=1\n",
    "        self.count=3\n",
    "\n",
    "    def cal(self):\n",
    "        while(self.counter<self.count):\n",
    "            self.num=int(input(\"\\n\\tEnter num \"))\n",
    "            self.sum+=self.num\n",
    "            self.product*=self.num\n",
    "            self.counter+=1\n",
    "    def display(self):\n",
    "        print(\"\\n\\tTotal of product \",self.product)\n",
    "        print(\"\\n\\tTotal of sum \",self.sum)\n",
    "        \n",
    "obj=Productsum()\n",
    "obj.accept()\n",
    "obj.cal()\n",
    "obj.display()"
   ]
  },
  {
   "cell_type": "code",
   "execution_count": null,
   "id": "78e828ca-91cf-4e47-acc0-2b2ce7d1ddac",
   "metadata": {},
   "outputs": [],
   "source": []
  },
  {
   "cell_type": "code",
   "execution_count": 19,
   "id": "f8d40660-12d3-4472-a5c9-19117d58728b",
   "metadata": {},
   "outputs": [
    {
     "name": "stdout",
     "output_type": "stream",
     "text": [
      "\n",
      "\tConstructor is called \n"
     ]
    },
    {
     "name": "stdin",
     "output_type": "stream",
     "text": [
      "\n",
      "\tEnter num  1\n",
      "\n",
      "\tEnter num  2\n",
      "\n",
      "\tEnter num  3\n",
      "\n",
      "\tEnter num  4\n",
      "\n",
      "\tEnter num  5\n"
     ]
    },
    {
     "name": "stdout",
     "output_type": "stream",
     "text": [
      "\n",
      "\tTotal Evens are  2\n",
      "\n",
      "\tTotal Odds are  3\n"
     ]
    }
   ],
   "source": [
    "class Odev:\n",
    "    def __init__(self):\n",
    "        self.even=0\n",
    "        self.odd=0\n",
    "        self.counter=0\n",
    "        self.count=0\n",
    "        print(\"\\n\\tConstructor is called \")\n",
    "\n",
    "    def accept(self):\n",
    "        self.even=0\n",
    "        self.odd=0\n",
    "        self.counter=0\n",
    "        self.count=5\n",
    "\n",
    "    def cal(self):\n",
    "        while(self.counter<self.count):\n",
    "            self.num=int(input(\"\\n\\tEnter num \"))\n",
    "            if(self.num%2==0):\n",
    "                self.even=self.even+1\n",
    "            else:\n",
    "                self.odd=self.odd+1\n",
    "            self.counter+=1\n",
    "\n",
    "    def display(self):\n",
    "        print(\"\\n\\tTotal Evens are \",self.even)\n",
    "        print(\"\\n\\tTotal Odds are \",self.odd)\n",
    "\n",
    "obj = Odev()\n",
    "obj.accept()\n",
    "obj.cal()\n",
    "obj.display()"
   ]
  },
  {
   "cell_type": "code",
   "execution_count": null,
   "id": "03b77486-434a-4457-97f9-9663b3879dc3",
   "metadata": {},
   "outputs": [],
   "source": [
    "#####Fact/Fibo"
   ]
  },
  {
   "cell_type": "code",
   "execution_count": 27,
   "id": "5d6bc51b-f145-4c75-b7ef-f1b21f3bf8bb",
   "metadata": {},
   "outputs": [
    {
     "name": "stdout",
     "output_type": "stream",
     "text": [
      "\n",
      "\tConstructor is called \n"
     ]
    },
    {
     "name": "stdin",
     "output_type": "stream",
     "text": [
      "\n",
      "\tEnter num  6\n"
     ]
    },
    {
     "name": "stdout",
     "output_type": "stream",
     "text": [
      "\n",
      "\tFact are  720\n"
     ]
    }
   ],
   "source": [
    "class Factorial:\n",
    "    def __init__(self):\n",
    "        self.fact=1\n",
    "        self.num=0\n",
    "        print(\"\\n\\tConstructor is called \")\n",
    "    def accept(self):\n",
    "        self.fact=1\n",
    "        self.num=int(input(\"\\n\\tEnter num \"))\n",
    "    def facto(self):\n",
    "        while(self.num>0):\n",
    "            self.fact=self.fact*self.num\n",
    "            self.num=self.num-1\n",
    "    def display(self):\n",
    "        print(\"\\n\\tFact are \",self.fact)\n",
    "\n",
    "obj = Factorial()\n",
    "obj.accept()\n",
    "obj.facto()  \n",
    "obj.display()"
   ]
  },
  {
   "cell_type": "code",
   "execution_count": 13,
   "id": "125abd59-4558-4d3c-bc3a-77616ac651a3",
   "metadata": {},
   "outputs": [
    {
     "name": "stdout",
     "output_type": "stream",
     "text": [
      "\n",
      "\tConstructor is called \n"
     ]
    },
    {
     "name": "stdin",
     "output_type": "stream",
     "text": [
      "n\tEnter number of series  5\n"
     ]
    },
    {
     "name": "stdout",
     "output_type": "stream",
     "text": [
      "\n",
      "\tFibo Series are  1 1 2 3 5 "
     ]
    }
   ],
   "source": [
    "class Fibo:\n",
    "    def __init__(self):\n",
    "        self.prev=1\n",
    "        self.curr=1\n",
    "        self.series=0\n",
    "        self.next=8\n",
    "        print(\"\\n\\tConstructor is called \")\n",
    "        \n",
    "    def accept(self):\n",
    "        self.prev=1\n",
    "        self.curr=1\n",
    "        \n",
    "    def fibo(self):\n",
    "        self.series=int(input(\"n\\tEnter number of series \"))\n",
    "        print(\"\\n\\tFibo Series are \",self.prev,end=\" \")\n",
    "        print(self.curr,end=\" \")\n",
    "        self.series=self.series-2\n",
    "        while(self.series>0):\n",
    "            self.next=self.prev+self.curr\n",
    "            self.series=self.series-1\n",
    "            self.prev=self.curr\n",
    "            self.curr=self.next\n",
    "            print(self.next,end=\" \")\n",
    "obj = Fibo()\n",
    "obj.fibo()"
   ]
  },
  {
   "cell_type": "code",
   "execution_count": null,
   "id": "e1293ece-26f9-4a5f-a240-9d005fa9352f",
   "metadata": {},
   "outputs": [],
   "source": []
  },
  {
   "cell_type": "code",
   "execution_count": 18,
   "id": "de528e5f-cf03-40d4-81ec-8ce05521125a",
   "metadata": {},
   "outputs": [
    {
     "name": "stdout",
     "output_type": "stream",
     "text": [
      "\n",
      "\tConstructor is called \n"
     ]
    },
    {
     "name": "stdin",
     "output_type": "stream",
     "text": [
      "\n",
      "\tEnter number  5\n"
     ]
    },
    {
     "name": "stdout",
     "output_type": "stream",
     "text": [
      "\n",
      "\tFibo Series are  1 1 2 3 5 \n",
      "\tFacts are  120\n"
     ]
    }
   ],
   "source": [
    "class Factnfib:\n",
    "    def __init__(self):\n",
    "        self.fact=1\n",
    "        self.prev=1\n",
    "        self.curr=1\n",
    "        self.series=0\n",
    "        self.num=5\n",
    "        print(\"\\n\\tConstructor is called \")\n",
    "\n",
    "    def accept(self):\n",
    "        self.fact=1\n",
    "        self.prev=1\n",
    "        self.curr=1\n",
    "        self.num=int(input(\"\\n\\tEnter number \"))\n",
    "        self.series=self.num\n",
    "        \n",
    "    def facto(self):\n",
    "        while(self.num>0):\n",
    "            self.fact=self.fact*self.num\n",
    "            self.num=self.num-1\n",
    "    \n",
    "    def fib(self):\n",
    "        print(\"\\n\\tFibo Series are \",self.prev,end=\" \")\n",
    "        print(self.curr,end=\" \")\n",
    "        self.series=self.series-2\n",
    "        while(self.series>0):\n",
    "            self.next=self.prev+self.curr\n",
    "            self.series=self.series-1\n",
    "            self.prev=self.curr\n",
    "            self.curr=self.next\n",
    "            print(self.next,end=\" \")\n",
    "\n",
    "    def display(self):\n",
    "        print(\"\\n\\tFacts are \",self.fact)\n",
    "\n",
    "obj = Factnfib()\n",
    "obj.accept()\n",
    "obj.facto()\n",
    "obj.fib()\n",
    "obj.display()\n",
    "        "
   ]
  },
  {
   "cell_type": "code",
   "execution_count": null,
   "id": "2431e618-873c-4f53-8ef0-c6920e3e0833",
   "metadata": {},
   "outputs": [],
   "source": []
  },
  {
   "cell_type": "code",
   "execution_count": 1,
   "id": "8e6c99e0-bf7d-4bef-be0b-4d3a0c71e7dc",
   "metadata": {},
   "outputs": [
    {
     "name": "stdout",
     "output_type": "stream",
     "text": [
      "\n",
      "\tConstructor is called \n",
      "\n",
      "\tReverse number is  321\n"
     ]
    }
   ],
   "source": [
    "class Rever:\n",
    "    def __init__(self):\n",
    "        self.rev=0\n",
    "        self.num=123\n",
    "        print(\"\\n\\tConstructor is called \")\n",
    "    def cal(self):\n",
    "        while(self.num>0):\n",
    "            self.rem=int(self.num%10)\n",
    "            self.rev=int(self.rev*10+self.rem)\n",
    "            self.num=int(self.num/10)\n",
    "    def display(self):\n",
    "        print(\"\\n\\tReverse number is \",self.rev)\n",
    "obj = Rever()\n",
    "obj.cal()\n",
    "obj.display()"
   ]
  },
  {
   "cell_type": "code",
   "execution_count": 12,
   "id": "78af6eda-8c00-4515-94e8-d2e2641b32a8",
   "metadata": {},
   "outputs": [
    {
     "name": "stdin",
     "output_type": "stream",
     "text": [
      "\n",
      "\tEnter number  123\n"
     ]
    },
    {
     "name": "stdout",
     "output_type": "stream",
     "text": [
      "\n",
      "\tConstructor is called \n",
      "\n",
      "\tReverse number is  321\n",
      "\n",
      "\tNot a Palindrome \n"
     ]
    }
   ],
   "source": [
    "class Palin:\n",
    "    def __init__(self):\n",
    "        self.rev=0\n",
    "        self.num=int(input(\"\\n\\tEnter number \"))\n",
    "        self.temp=self.num\n",
    "        print(\"\\n\\tConstructor is called \")\n",
    "    def cal(self):\n",
    "        while(self.num>0):\n",
    "            self.rem=int(self.num%10)\n",
    "            self.rev=int(self.rev*10+self.rem)\n",
    "            self.num=int(self.num/10)\n",
    "    def display(self):\n",
    "        print(\"\\n\\tReverse number is \",self.rev)\n",
    "        if(self.temp==self.rev):\n",
    "            print(\"\\n\\tIt is Palindrome \")\n",
    "        else:\n",
    "            print(\"\\n\\tNot a Palindrome \")\n",
    "obj = Palin()\n",
    "obj.cal()\n",
    "obj.display()"
   ]
  },
  {
   "cell_type": "code",
   "execution_count": null,
   "id": "9d6007a7-3b36-45b4-81ef-709ee58fd0ad",
   "metadata": {},
   "outputs": [],
   "source": [
    "# #############"
   ]
  },
  {
   "cell_type": "code",
   "execution_count": 2,
   "id": "d4f3e900-3624-48e9-888c-f78672b27ceb",
   "metadata": {},
   "outputs": [],
   "source": [
    "class RBI:\n",
    "    def getroi(self):\n",
    "        return 0;\n",
    "\n",
    "class SBI(RBI):\n",
    "    def getroI(self):\n",
    "        return 7;\n",
    "\n",
    "class ICICI(RBI):\n",
    "    def getroi(self):\n",
    "        return 8;\n",
    "\n"
   ]
  },
  {
   "cell_type": "code",
   "execution_count": 3,
   "id": "fc921b2f-198d-4856-8bf4-ff6c5b078ff0",
   "metadata": {},
   "outputs": [],
   "source": [
    "b1 = RBI()"
   ]
  },
  {
   "cell_type": "code",
   "execution_count": 4,
   "id": "af0a4073-4107-44fb-bf92-388322891cd0",
   "metadata": {},
   "outputs": [
    {
     "name": "stdout",
     "output_type": "stream",
     "text": [
      "Bank Rate of Interest: 0\n"
     ]
    }
   ],
   "source": [
    "print(\"Bank Rate of Interest:\",b1.getroi());"
   ]
  },
  {
   "cell_type": "code",
   "execution_count": 5,
   "id": "f8c60970-b19c-4398-954c-cc3b4769f86a",
   "metadata": {},
   "outputs": [],
   "source": [
    "b2 = SBI()"
   ]
  },
  {
   "cell_type": "code",
   "execution_count": 7,
   "id": "28da19d0-c320-4569-96e9-4fb286bf0165",
   "metadata": {},
   "outputs": [
    {
     "name": "stdout",
     "output_type": "stream",
     "text": [
      "SBI Rate of interest: 7\n"
     ]
    }
   ],
   "source": [
    "print(\"SBI Rate of interest:\",b2.getroI());  ###"
   ]
  },
  {
   "cell_type": "code",
   "execution_count": 33,
   "id": "f864e7ff-bc82-4e15-a4bf-8ff88fb7d975",
   "metadata": {},
   "outputs": [],
   "source": [
    "b3 = ICICI()"
   ]
  },
  {
   "cell_type": "code",
   "execution_count": 34,
   "id": "48214220-ba3e-45bb-91bc-c06bb5a6b4b4",
   "metadata": {},
   "outputs": [
    {
     "name": "stdout",
     "output_type": "stream",
     "text": [
      "ICICI Rate of interest: 8\n"
     ]
    }
   ],
   "source": [
    "print(\"ICICI Rate of interest:\",b3.getroi());"
   ]
  },
  {
   "cell_type": "code",
   "execution_count": 18,
   "id": "55aa79ce-a717-48bc-9539-7f084ede4517",
   "metadata": {},
   "outputs": [],
   "source": [
    "class Animal:\n",
    "    def speak(self):\n",
    "        print(\"Animal Speaking\")\n",
    "\n",
    "class Dog(Animal):\n",
    "    def bark(self):\n",
    "        print(\"dog barking\")\n",
    "\n",
    "class DogChild(Dog):\n",
    "    def eat(self):\n",
    "        print(\"Eating bread...\")"
   ]
  },
  {
   "cell_type": "code",
   "execution_count": 19,
   "id": "f0c32367-7c8a-49c8-9724-4327623099e5",
   "metadata": {},
   "outputs": [],
   "source": [
    "d = DogChild()"
   ]
  },
  {
   "cell_type": "code",
   "execution_count": 20,
   "id": "861988af-47b2-4c94-a5fb-387ed8cb285d",
   "metadata": {},
   "outputs": [
    {
     "name": "stdout",
     "output_type": "stream",
     "text": [
      "Eating bread...\n"
     ]
    }
   ],
   "source": [
    "d.eat()"
   ]
  },
  {
   "cell_type": "code",
   "execution_count": 21,
   "id": "b8ee2869-1e70-4f23-9c12-4a646c4ccd9c",
   "metadata": {},
   "outputs": [
    {
     "name": "stdout",
     "output_type": "stream",
     "text": [
      "dog barking\n"
     ]
    }
   ],
   "source": [
    "d.bark()"
   ]
  },
  {
   "cell_type": "code",
   "execution_count": 22,
   "id": "023804c5-d0ac-479c-8abc-545c6ca4171f",
   "metadata": {},
   "outputs": [
    {
     "name": "stdout",
     "output_type": "stream",
     "text": [
      "Animal Speaking\n"
     ]
    }
   ],
   "source": [
    "d.speak()"
   ]
  },
  {
   "cell_type": "code",
   "execution_count": 23,
   "id": "c21f1e3b-824e-4a24-815f-db52d9e7c923",
   "metadata": {},
   "outputs": [
    {
     "name": "stdout",
     "output_type": "stream",
     "text": [
      "ID:  20 \n",
      "Name:  John\n",
      "ID:  10 \n",
      "Name:  John\n"
     ]
    }
   ],
   "source": [
    "class Employee:\n",
    "\n",
    "    #class level variable\n",
    "    empno = 10\n",
    "    name = \"John\"\n",
    "\n",
    "    def show(self):\n",
    "        empno=20 #Local Variable\n",
    "        print(\"ID: \",empno,\"\\nName: \",self.name)\n",
    "\n",
    "    def display (self):\n",
    "        print(\"ID: \",self.empno,\"\\nName: \",self.name)\n",
    "\n",
    "emp=Employee()\n",
    "emp.show()\n",
    "emp.display()\n"
   ]
  },
  {
   "cell_type": "code",
   "execution_count": 1,
   "id": "2fc112d4-b3b8-4d10-93e1-e8172b84dbce",
   "metadata": {},
   "outputs": [
    {
     "name": "stdout",
     "output_type": "stream",
     "text": [
      "ID:  365 \n",
      "Name Aptech\n",
      "\n",
      "ID:  45 \n",
      "Name Sahil\n"
     ]
    }
   ],
   "source": [
    "class Employee:    #similat=r to C++ \n",
    "    empno = 45        #whatever values are put here will automatically be associated to \"self\"\n",
    "    name = \"Sahil\"\n",
    "\n",
    "    def show(self):\n",
    "        empno = 365    #different values are put \n",
    "        name = \"Aptech\"\n",
    "        print(\"ID: \",empno,\"\\nName\",name)       #NO self has imputted so it will show fresh values mentioned \n",
    "\n",
    "    def display(self):\n",
    "        print(\"\\nID: \",self.empno,\"\\nName\",self.name)\n",
    "\n",
    "emp=Employee()\n",
    "emp.show()\n",
    "\n",
    "emp.display()"
   ]
  },
  {
   "cell_type": "code",
   "execution_count": 26,
   "id": "ee729d1f-6969-4359-b4f9-117b03dcc0b7",
   "metadata": {},
   "outputs": [
    {
     "name": "stdout",
     "output_type": "stream",
     "text": [
      "ID:  101 \n",
      "Name:  John\n",
      "ID:  102 \n",
      "Name:  David\n"
     ]
    }
   ],
   "source": [
    "class Employee:\n",
    "    def __init__(self,name,id):\n",
    "        self.id = id;\n",
    "        self.name = name;\n",
    "    def display (self):\n",
    "        print(\"ID: \",self.id,\"\\nName: \",self.name)\n",
    "\n",
    "emp1 = Employee(\"John\",101)\n",
    "emp2 = Employee(\"David\",102)\n",
    "\n",
    "emp1.display();\n",
    "emp2.display();"
   ]
  },
  {
   "cell_type": "code",
   "execution_count": 1,
   "id": "5894a465-7621-4662-99f5-a4a6b14eb7a8",
   "metadata": {},
   "outputs": [
    {
     "name": "stdout",
     "output_type": "stream",
     "text": [
      "ID:  77 \n",
      "Name  john\n",
      "ID:  98 \n",
      "Name  David\n"
     ]
    }
   ],
   "source": [
    "class Employee:\n",
    "    def __init__(self,name,id):\n",
    "        self.id=id\n",
    "        self.name=name\n",
    "    def display(self):\n",
    "        print(\"ID: \",self.id,\"\\nName \",self.name)\n",
    "\n",
    "emp1=Employee(\"john\",77)\n",
    "emp2=Employee(\"David\",98)\n",
    "\n",
    "emp1.display()\n",
    "emp2.display()\n"
   ]
  },
  {
   "cell_type": "code",
   "execution_count": null,
   "id": "fdb8b74f-12eb-49b6-ab2e-a750ebf12beb",
   "metadata": {},
   "outputs": [],
   "source": []
  }
 ],
 "metadata": {
  "kernelspec": {
   "display_name": "Python 3 (ipykernel)",
   "language": "python",
   "name": "python3"
  },
  "language_info": {
   "codemirror_mode": {
    "name": "ipython",
    "version": 3
   },
   "file_extension": ".py",
   "mimetype": "text/x-python",
   "name": "python",
   "nbconvert_exporter": "python",
   "pygments_lexer": "ipython3",
   "version": "3.12.7"
  }
 },
 "nbformat": 4,
 "nbformat_minor": 5
}
